{
 "cells": [
  {
   "cell_type": "code",
   "execution_count": 1,
   "id": "1623ec22",
   "metadata": {},
   "outputs": [],
   "source": [
    "%matplotlib inline  \n",
    "\n",
    "import numpy as np\n",
    "from mnist.mnist import load_mnist\n",
    "import pickle"
   ]
  },
  {
   "cell_type": "code",
   "execution_count": 2,
   "id": "d42d1102",
   "metadata": {},
   "outputs": [],
   "source": [
    "def sigmoid(x):\n",
    "    return 1 / (1+np.exp(-x))\n",
    "\n",
    "def softmax(x):\n",
    "    if x.ndim == 2:\n",
    "        x = x - np.max(x, axis=1).reshape(-1,1)\n",
    "        x = np.exp(x) / np.sum(np.exp(x), axis=1). reshape(-1,1)\n",
    "    else:\n",
    "        x = x - np.max(x)\n",
    "        x = np.exp(x) / np.sum(np.exp(x))\n",
    "        \n",
    "    return x\n",
    "\n"
   ]
  },
  {
   "cell_type": "code",
   "execution_count": null,
   "id": "9f71e6cf",
   "metadata": {},
   "outputs": [],
   "source": []
  },
  {
   "cell_type": "code",
   "execution_count": 3,
   "id": "7c52720f",
   "metadata": {
    "scrolled": true
   },
   "outputs": [
    {
     "name": "stdout",
     "output_type": "stream",
     "text": [
      "[[-0.00391574  0.00235982  0.15405002 ...  0.07643579  0.04048303\n",
      "   0.17894486]\n",
      " [ 0.1048934  -0.03625136 -0.07409769 ...  0.15310726  0.07670112\n",
      "   0.04780273]\n",
      " [-0.23270108 -0.02838503  0.03953473 ... -0.06615517 -0.0363144\n",
      "   0.1027033 ]\n",
      " ...\n",
      " [-0.05065644  0.04485779 -0.16198439 ... -0.06044266 -0.01613528\n",
      "   0.02149604]\n",
      " [-0.13772163  0.02926289  0.03767156 ... -0.15479492 -0.02446951\n",
      "  -0.02706205]\n",
      " [-0.03207722 -0.03754213  0.14087992 ... -0.02328948  0.19048743\n",
      "  -0.03575524]]\n"
     ]
    }
   ],
   "source": [
    "def setup_network():\n",
    "    with open(\"22-fnn-mnist-2layer-sig.pkl\", 'rb') as f:\n",
    "        net = pickle.load(f)\n",
    "    return net\n",
    "\n",
    "test_net = setup_network()\n",
    "W1 = test_net['W1']; \n",
    "print(W1)"
   ]
  },
  {
   "cell_type": "code",
   "execution_count": 4,
   "id": "7c5a9481",
   "metadata": {},
   "outputs": [],
   "source": [
    "def predict(net, input):\n",
    "    w1, w2 = net['W1'], net['W2']\n",
    "    b1, b2 = net['b1'], net['b2']\n",
    "    \n",
    "    v1 = np.dot(input, w1) + b1\n",
    "    h1 = sigmoid(v1)\n",
    "    \n",
    "    v2 = np.dot(h1, w2) + b2\n",
    "    h2 = sigmoid(v2)\n",
    "    \n",
    "    y = softmax(h2)\n",
    "    return y"
   ]
  },
  {
   "cell_type": "code",
   "execution_count": 5,
   "id": "374e8b1a",
   "metadata": {},
   "outputs": [],
   "source": [
    "(x_train, d_train), (x_test, d_test) = load_mnist(normalize=True,\n",
    "                                                  flatten=True,\n",
    "                                                  one_hot_label=False)\n",
    "# 네트워크 생성\n",
    "FNN = setup_network()"
   ]
  },
  {
   "cell_type": "code",
   "execution_count": 6,
   "id": "92fdf2cc",
   "metadata": {},
   "outputs": [
    {
     "name": "stdout",
     "output_type": "stream",
     "text": [
      "훈련샘플 정확도 : 0.87725\n",
      "테스트샘플 정확도 0.8836\n"
     ]
    }
   ],
   "source": [
    "acc = 0\n",
    "for i in range(len(x_train)):\n",
    "    y = predict(FNN, x_train[i])\n",
    "    y = np.argmax(y)\n",
    "    if y == d_train[i]:\n",
    "        acc += 1\n",
    "        \n",
    "train_sample = float(acc)/len(x_train)\n",
    "print(\"훈련샘플 정확도 :\", train_sample)\n",
    "\n",
    "acc = 0\n",
    "for i in range(len(x_test)):\n",
    "    y = predict(FNN, x_test[i])\n",
    "    y = np.argmax(y)\n",
    "    if y == d_test[i]:\n",
    "        acc += 1\n",
    "        \n",
    "test_sample = float(acc) / len(x_test)\n",
    "print(\"테스트샘플 정확도\", test_sample)\n"
   ]
  },
  {
   "cell_type": "code",
   "execution_count": 7,
   "id": "16956d6a",
   "metadata": {},
   "outputs": [
    {
     "name": "stdout",
     "output_type": "stream",
     "text": [
      "훈련 샘플의 분류 실패 확률: 0.12275\n",
      "시험 샘플의 분류 실패 확률: 0.1164\n"
     ]
    }
   ],
   "source": [
    "acc = 0\n",
    "batch = 100\n",
    "acc_fail = 0\n",
    "acc_fail2 = 0\n",
    "\n",
    "for i in range(0,len(x_train), batch):\n",
    "    y = predict(FNN, x_train[i:i+batch])\n",
    "    y = np.argmax(y, axis=1)\n",
    "    acc_fail += np.sum(y != d_train[i : i+batch])\n",
    "    \n",
    "for i in range(0, len(x_test), batch):\n",
    "    y = predict(FNN, x_test[i : i+batch])\n",
    "    y = np.argmax(y, axis=1)\n",
    "    acc_fail2 += np.sum(y != d_test[i:i+batch])\n",
    "    \n",
    "    \n",
    "print(\"훈련 샘플의 분류 실패 확률:\", float(acc_fail) / int(len(x_train)))\n",
    "print(\"시험 샘플의 분류 실패 확률:\", float(acc_fail2) / int(len(x_test)))"
   ]
  },
  {
   "cell_type": "code",
   "execution_count": 8,
   "id": "9937ce57",
   "metadata": {},
   "outputs": [
    {
     "name": "stdout",
     "output_type": "stream",
     "text": [
      "1164\n"
     ]
    }
   ],
   "source": [
    "acc = 0\n",
    "batch = 100\n",
    "\n",
    "for i in range(0, len(x_test), batch):\n",
    "    y = predict(FNN, x_test[i:i+batch])\n",
    "    y = np.argmax(y, axis=1)\n",
    "    acc += np.sum(y != d_test[i:i+batch])\n",
    "    \n",
    "print(acc)"
   ]
  },
  {
   "cell_type": "code",
   "execution_count": 9,
   "id": "2cc5d912",
   "metadata": {
    "scrolled": false
   },
   "outputs": [
    {
     "name": "stdout",
     "output_type": "stream",
     "text": [
      "4\n"
     ]
    }
   ],
   "source": [
    "acc = 0\n",
    "a = np.array([[2,2,3], [3,4,5]])\n",
    "b = np.array([[1,3,2], [3,2,5]])\n",
    "acc += np.sum(a != b)\n",
    "print(acc)"
   ]
  },
  {
   "cell_type": "code",
   "execution_count": 27,
   "id": "519d6d5d",
   "metadata": {},
   "outputs": [],
   "source": [
    "def classify(input):\n",
    "    x = predict(FNN, x_test[input])\n",
    "    y = np.argmax(x)\n",
    "    return y"
   ]
  },
  {
   "cell_type": "code",
   "execution_count": 10,
   "id": "f0970aa8",
   "metadata": {},
   "outputs": [
    {
     "name": "stdout",
     "output_type": "stream",
     "text": [
      "1164\n"
     ]
    }
   ],
   "source": [
    "def fail_list():\n",
    "    arr = []\n",
    "    for i in range(len(x_test)):\n",
    "        y = predict(FNN, x_test[i])\n",
    "        y = np.argmax(y)\n",
    "        if y != d_test[i]:\n",
    "            arr.append(i)\n",
    "\n",
    "    return arr\n",
    "\n",
    "fail_list, y = fail_list()\n",
    "print(len(fail_list))"
   ]
  },
  {
   "cell_type": "code",
   "execution_count": 32,
   "id": "107e60b8",
   "metadata": {},
   "outputs": [
    {
     "data": {
      "image/png": "[encoded data removed]",
      "text/plain": [
       "<Figure size 640x480 with 20 Axes>"
      ]
     },
     "metadata": {},
     "output_type": "display_data"
    }
   ],
   "source": [
    "import matplotlib.pyplot as plt\n",
    "\n",
    "def fail_list20(list):\n",
    "    \n",
    "    j = 1\n",
    "    for i in range(len(list)):\n",
    "        add = classify(fail_list[i])\n",
    "        plt.subplot(2,10, j)\n",
    "        label = d_test[fail_list[i]]\n",
    "        img = x_test[fail_list[i]]\n",
    "        img = img.reshape(28,28)\n",
    "        plt.imshow(img)\n",
    "        \n",
    "        plt.title(\"%d/%d\" % (int(add), int(label)))\n",
    "        j += 1\n",
    "        \n",
    "        \n",
    "fail_list20(fail_list[0:20])"
   ]
  },
  {
   "cell_type": "code",
   "execution_count": 12,
   "id": "78bba1e8",
   "metadata": {},
   "outputs": [
    {
     "name": "stdout",
     "output_type": "stream",
     "text": [
      "[7 2 1 0 4 1 4 9 5 9 0 6 9 0 1 5 9 7 3 4 9 6 6 5 4 0 7 4 0 1 3 1 3 4 7 2 7\n",
      " 1 2 1 1 7 4 2 3 5 1 2 4 4 6 3 5 5 6 0 4 1 9 5 7 8 9 3 7 4 6 4 3 0 7 0 2 9\n",
      " 1 7 3 2 9 7 7 6 2 7 8 4 7 3 6 1 3 6 9 3 1 4 1 7 6 9]\n"
     ]
    }
   ],
   "source": [
    "i = 0\n",
    "batch = 100\n",
    "print(d_test[i:i+batch])"
   ]
  },
  {
   "cell_type": "code",
   "execution_count": 35,
   "id": "2c47b7a4",
   "metadata": {},
   "outputs": [
    {
     "name": "stdout",
     "output_type": "stream",
     "text": [
      "[0.0738347  0.07827174 0.07396138 0.10173513 0.08484449 0.07432075\n",
      " 0.07384494 0.17976995 0.07473591 0.18468102]\n",
      "9\n"
     ]
    }
   ],
   "source": [
    "a = predict(FNN, x_test[1000])\n",
    "print(a)\n",
    "b = np.argmax(a)\n",
    "print(b)"
   ]
  },
  {
   "cell_type": "code",
   "execution_count": null,
   "id": "311b6d4d",
   "metadata": {},
   "outputs": [],
   "source": []
  }
 ],
 "metadata": {
  "kernelspec": {
   "display_name": "Python 3 (ipykernel)",
   "language": "python",
   "name": "python3"
  },
  "language_info": {
   "codemirror_mode": {
    "name": "ipython",
    "version": 3
   },
   "file_extension": ".py",
   "mimetype": "text/x-python",
   "name": "python",
   "nbconvert_exporter": "python",
   "pygments_lexer": "ipython3",
   "version": "3.9.18"
  }
 },
 "nbformat": 4,
 "nbformat_minor": 5
}
